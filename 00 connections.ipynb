{
 "cells": [
  {
   "cell_type": "code",
   "execution_count": 0,
   "metadata": {
    "application/vnd.databricks.v1+cell": {
     "cellMetadata": {
      "byteLimit": 2048000,
      "rowLimit": 10000
     },
     "inputWidgets": {},
     "nuid": "42294cd3-67b6-42f8-8087-f0680541089b",
     "showTitle": false,
     "tableResultSettingsMap": {},
     "title": ""
    }
   },
   "outputs": [],
   "source": [
    "service_credential = dbutils.secrets.get(scope=\"kv-databricks-scope\",key=\"databricks-cyrtdata-sp\")\n",
    "\n",
    "spark.conf.set(\"fs.azure.account.auth.type.databricks-cyrtdata-sp.dfs.core.windows.net\", \"OAuth\")\n",
    "spark.conf.set(\"fs.azure.account.oauth.provider.type.databricks-cyrtdata-sp.dfs.core.windows.net\", \"org.apache.hadoop.fs.azurebfs.oauth2.ClientCredsTokenProvider\")\n",
    "spark.conf.set(\"fs.azure.account.oauth2.client.id.databricks-cyrtdata-sp.dfs.core.windows.net\", \"fe9a0284-f087-4ff3-accf-4da08b067df1\")\n",
    "spark.conf.set(\"fs.azure.account.oauth2.client.secret.databricks-cyrtdata-sp.dfs.core.windows.net\", service_credential)\n",
    "spark.conf.set(\"fs.azure.account.oauth2.client.endpoint.databricks-cyrtdata-sp.dfs.core.windows.net\", \"https://login.microsoftonline.com/d9bad1c3-3b62-413e-9a30-3cf800e6a5ee/oauth2/token\")"
   ]
  },
  {
   "cell_type": "code",
   "execution_count": 0,
   "metadata": {
    "application/vnd.databricks.v1+cell": {
     "cellMetadata": {
      "byteLimit": 2048000,
      "rowLimit": 10000
     },
     "inputWidgets": {},
     "nuid": "8dd1930b-c141-4fab-83ba-c386b7e6f9d4",
     "showTitle": false,
     "tableResultSettingsMap": {},
     "title": ""
    }
   },
   "outputs": [],
   "source": [
    "acct = \"cyrtdata\"  # STORAGE ACCOUNT name, not the app name\n",
    "\n",
    "spark.conf.set(f\"fs.azure.account.auth.type.{acct}.dfs.core.windows.net\", \"OAuth\")\n",
    "spark.conf.set(f\"fs.azure.account.oauth.provider.type.{acct}.dfs.core.windows.net\",\n",
    "               \"org.apache.hadoop.fs.azurebfs.oauth2.ClientCredsTokenProvider\")\n",
    "spark.conf.set(f\"fs.azure.account.oauth2.client.id.{acct}.dfs.core.windows.net\",\n",
    "               \"fe9a0284-f087-4ff3-accf-4da08b067df1\")   # your SP (app) client ID\n",
    "spark.conf.set(f\"fs.azure.account.oauth2.client.secret.{acct}.dfs.core.windows.net\",\n",
    "               dbutils.secrets.get(\"kv-databricks-scope\", \"databricks-cyrtdata-sp\"))\n",
    "spark.conf.set(f\"fs.azure.account.oauth2.client.endpoint.{acct}.dfs.core.windows.net\",\n",
    "               \"https://login.microsoftonline.com/d9bad1c3-3b62-413e-9a30-3cf800e6a5ee/oauth2/token\")\n",
    "\n",
    "root = \"abfss://weather@cyrtdata.dfs.core.windows.net/\"\n",
    "dbutils.fs.mkdirs(root + \"bronze/\")\n",
    "display(dbutils.fs.ls(root))\n"
   ]
  },
  {
   "cell_type": "code",
   "execution_count": 0,
   "metadata": {
    "application/vnd.databricks.v1+cell": {
     "cellMetadata": {
      "byteLimit": 2048000,
      "rowLimit": 10000
     },
     "inputWidgets": {},
     "nuid": "43405a77-d0ac-47ba-a9ca-d7fe6f9f7225",
     "showTitle": false,
     "tableResultSettingsMap": {},
     "title": ""
    }
   },
   "outputs": [],
   "source": [
    "df = spark.createDataFrame([(\"ok\", 1)])\n",
    "df.write.mode(\"overwrite\").parquet(root + \"bronze/smoke_test/part=1/\")\n",
    "spark.read.parquet(root + \"bronze/smoke_test/part=1/\").show()"
   ]
  },
  {
   "cell_type": "code",
   "execution_count": 0,
   "metadata": {
    "application/vnd.databricks.v1+cell": {
     "cellMetadata": {
      "byteLimit": 2048000,
      "implicitDf": true,
      "rowLimit": 10000
     },
     "inputWidgets": {},
     "nuid": "539a4d4e-f9d4-4fa0-abd4-7f87219b2568",
     "showTitle": false,
     "tableResultSettingsMap": {},
     "title": ""
    }
   },
   "outputs": [],
   "source": [
    "%sql\n",
    "CREATE SCHEMA IF NOT EXISTS weather_bronze;\n",
    "\n",
    "CREATE TABLE weather_bronze.ecmwf_file_index (\n",
    "  run_date DATE,\n",
    "  run_hour INT,\n",
    "  path STRING,\n",
    "  bytes BIGINT,\n",
    "  ingested_at TIMESTAMP\n",
    ") USING DELTA\n",
    "LOCATION 'abfss://weather@cyrtdata.dfs.core.windows.net/bronze/ecmwf/_index';"
   ]
  },
  {
   "cell_type": "markdown",
   "metadata": {
    "application/vnd.databricks.v1+cell": {
     "cellMetadata": {},
     "inputWidgets": {},
     "nuid": "4336758b-5df4-4a0b-8dc0-96cff31b87b1",
     "showTitle": false,
     "tableResultSettingsMap": {},
     "title": ""
    }
   },
   "source": []
  }
 ],
 "metadata": {
  "application/vnd.databricks.v1+notebook": {
   "computePreferences": null,
   "dashboards": [],
   "environmentMetadata": {
    "base_environment": "",
    "environment_version": "2"
   },
   "inputWidgetPreferences": null,
   "language": "python",
   "notebookMetadata": {
    "mostRecentlyExecutedCommandWithImplicitDF": {
     "commandId": 8703152087460294,
     "dataframes": [
      "_sqldf"
     ]
    },
    "pythonIndentUnit": 4
   },
   "notebookName": "00 connections",
   "widgets": {}
  },
  "language_info": {
   "name": "python"
  }
 },
 "nbformat": 4,
 "nbformat_minor": 0
}
